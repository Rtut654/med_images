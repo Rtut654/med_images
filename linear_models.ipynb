{
 "cells": [
  {
   "cell_type": "code",
   "execution_count": 1,
   "metadata": {},
   "outputs": [
    {
     "name": "stderr",
     "output_type": "stream",
     "text": [
      "C:\\ProgramData\\Anaconda3\\lib\\importlib\\_bootstrap.py:219: RuntimeWarning: numpy.ufunc size changed, may indicate binary incompatibility. Expected 216, got 192\n",
      "  return f(*args, **kwds)\n",
      "C:\\ProgramData\\Anaconda3\\lib\\importlib\\_bootstrap.py:219: RuntimeWarning: numpy.ufunc size changed, may indicate binary incompatibility. Expected 216, got 192\n",
      "  return f(*args, **kwds)\n",
      "C:\\ProgramData\\Anaconda3\\lib\\importlib\\_bootstrap.py:219: RuntimeWarning: numpy.ufunc size changed, may indicate binary incompatibility. Expected 192 from C header, got 216 from PyObject\n",
      "  return f(*args, **kwds)\n",
      "C:\\ProgramData\\Anaconda3\\lib\\importlib\\_bootstrap.py:219: RuntimeWarning: numpy.ufunc size changed, may indicate binary incompatibility. Expected 192 from C header, got 216 from PyObject\n",
      "  return f(*args, **kwds)\n"
     ]
    }
   ],
   "source": [
    "import pandas as pd\n",
    "import numpy as np\n",
    "from sklearn.linear_model import LinearRegression, LogisticRegression\n",
    "from sklearn.metrics import mean_absolute_error\n",
    "from sklearn.model_selection import train_test_split\n",
    "from sklearn.utils import shuffle\n",
    "from xgboost import XGBRegressor\n",
    "import statsmodels.api as sm\n",
    "\n",
    "import seaborn as sns\n",
    "import matplotlib.pyplot as plt\n",
    "\n",
    "import warnings\n",
    "warnings.filterwarnings('ignore')"
   ]
  },
  {
   "cell_type": "code",
   "execution_count": 2,
   "metadata": {},
   "outputs": [],
   "source": [
    "def shuffle_dataset(df):\n",
    "    df = shuffle(df)\n",
    "    df.reset_index(inplace=True, drop=True)\n",
    "    return df\n",
    "\n",
    "def convert_to_label(prediction):\n",
    "    \"\"\"\n",
    "    Convert float number to integer\n",
    "    \"\"\"\n",
    "    prediction[prediction > 5] = 5\n",
    "    prediction[prediction < 1] = 1\n",
    "    prediction = np.round(prediction)\n",
    "    return prediction.astype(int)\n",
    "\n",
    "def cross_val_score(df, labels, n_splits, reg=False, reg_params=None):\n",
    "    \"\"\"\n",
    "    Аналог кросс-валидации для моделей из statsmodels\n",
    "    \"\"\"\n",
    "    N = len(df)\n",
    "    chunk_size = N // n_splits\n",
    "    val_scores = []\n",
    "    train_scores = []\n",
    "    idx = np.arange(N)\n",
    "    for i in range(0, N, chunk_size):\n",
    "        train_idx = np.hstack((idx[:i], idx[i+chunk_size:]))\n",
    "        val_idx = idx[i:i+chunk_size]\n",
    "        X_train, y_train = df.iloc[train_idx,:], labels[train_idx]\n",
    "        X_val, y_val = df.iloc[val_idx, :], labels[val_idx]\n",
    "\n",
    "        model = sm.OLS(y_train, X_train, missing='drop')\n",
    "        if reg == True:\n",
    "            if reg_params is not None:\n",
    "                model = model.fit_regularized(**reg_params)\n",
    "            else:\n",
    "                model = model.fit_regularized()\n",
    "        else:\n",
    "            model = model.fit()\n",
    "        \n",
    "        train_pred = model.predict(X_train)\n",
    "        train_pred = convert_to_label(train_pred)\n",
    "        val_pred = model.predict(X_val)\n",
    "        val_pred = convert_to_label(val_pred)\n",
    "        \n",
    "        train_scores.append(mean_absolute_error(y_train, train_pred))\n",
    "        val_scores.append(mean_absolute_error(y_val, val_pred))    \n",
    "    return np.array(train_scores), np.array(val_scores)"
   ]
  },
  {
   "cell_type": "code",
   "execution_count": 19,
   "metadata": {
    "scrolled": true
   },
   "outputs": [
    {
     "data": {
      "text/html": [
       "<div>\n",
       "<style scoped>\n",
       "    .dataframe tbody tr th:only-of-type {\n",
       "        vertical-align: middle;\n",
       "    }\n",
       "\n",
       "    .dataframe tbody tr th {\n",
       "        vertical-align: top;\n",
       "    }\n",
       "\n",
       "    .dataframe thead th {\n",
       "        text-align: right;\n",
       "    }\n",
       "</style>\n",
       "<table border=\"1\" class=\"dataframe\">\n",
       "  <thead>\n",
       "    <tr style=\"text-align: right;\">\n",
       "      <th></th>\n",
       "      <th>mi</th>\n",
       "      <th>tp</th>\n",
       "      <th>hd</th>\n",
       "      <th>name</th>\n",
       "      <th>target</th>\n",
       "      <th>type</th>\n",
       "      <th>center_dist</th>\n",
       "      <th>vs</th>\n",
       "      <th>ari</th>\n",
       "      <th>jac</th>\n",
       "      <th>f1</th>\n",
       "      <th>obj_num_diff</th>\n",
       "      <th>feat</th>\n",
       "    </tr>\n",
       "  </thead>\n",
       "  <tbody>\n",
       "    <tr>\n",
       "      <th>0</th>\n",
       "      <td>0.023460</td>\n",
       "      <td>0.057076</td>\n",
       "      <td>5016.440471</td>\n",
       "      <td>00008008_027.png</td>\n",
       "      <td>2</td>\n",
       "      <td>3</td>\n",
       "      <td>297.097485</td>\n",
       "      <td>0.255544</td>\n",
       "      <td>0.214910</td>\n",
       "      <td>0.942924</td>\n",
       "      <td>0.077861</td>\n",
       "      <td>4</td>\n",
       "      <td>1912</td>\n",
       "    </tr>\n",
       "    <tr>\n",
       "      <th>1</th>\n",
       "      <td>0.018463</td>\n",
       "      <td>0.044794</td>\n",
       "      <td>3402.124336</td>\n",
       "      <td>00008554_009.png</td>\n",
       "      <td>5</td>\n",
       "      <td>3</td>\n",
       "      <td>122.116747</td>\n",
       "      <td>0.884860</td>\n",
       "      <td>0.287844</td>\n",
       "      <td>0.955206</td>\n",
       "      <td>0.064814</td>\n",
       "      <td>0</td>\n",
       "      <td>122</td>\n",
       "    </tr>\n",
       "    <tr>\n",
       "      <th>2</th>\n",
       "      <td>0.040139</td>\n",
       "      <td>0.018757</td>\n",
       "      <td>3579.095556</td>\n",
       "      <td>00009437_008.png</td>\n",
       "      <td>5</td>\n",
       "      <td>2</td>\n",
       "      <td>49.732244</td>\n",
       "      <td>0.754302</td>\n",
       "      <td>0.555769</td>\n",
       "      <td>0.981243</td>\n",
       "      <td>0.138509</td>\n",
       "      <td>0</td>\n",
       "      <td>68</td>\n",
       "    </tr>\n",
       "    <tr>\n",
       "      <th>3</th>\n",
       "      <td>0.087191</td>\n",
       "      <td>0.041661</td>\n",
       "      <td>2432.544964</td>\n",
       "      <td>00011157_001.png</td>\n",
       "      <td>5</td>\n",
       "      <td>2</td>\n",
       "      <td>53.954943</td>\n",
       "      <td>0.943713</td>\n",
       "      <td>0.597793</td>\n",
       "      <td>0.958339</td>\n",
       "      <td>0.233405</td>\n",
       "      <td>0</td>\n",
       "      <td>173</td>\n",
       "    </tr>\n",
       "    <tr>\n",
       "      <th>4</th>\n",
       "      <td>0.032916</td>\n",
       "      <td>0.045263</td>\n",
       "      <td>3983.227335</td>\n",
       "      <td>00009437_008.png</td>\n",
       "      <td>3</td>\n",
       "      <td>3</td>\n",
       "      <td>255.285688</td>\n",
       "      <td>0.710239</td>\n",
       "      <td>0.375651</td>\n",
       "      <td>0.954737</td>\n",
       "      <td>0.086244</td>\n",
       "      <td>1</td>\n",
       "      <td>651</td>\n",
       "    </tr>\n",
       "  </tbody>\n",
       "</table>\n",
       "</div>"
      ],
      "text/plain": [
       "         mi        tp           hd              name  target  type  \\\n",
       "0  0.023460  0.057076  5016.440471  00008008_027.png       2     3   \n",
       "1  0.018463  0.044794  3402.124336  00008554_009.png       5     3   \n",
       "2  0.040139  0.018757  3579.095556  00009437_008.png       5     2   \n",
       "3  0.087191  0.041661  2432.544964  00011157_001.png       5     2   \n",
       "4  0.032916  0.045263  3983.227335  00009437_008.png       3     3   \n",
       "\n",
       "   center_dist        vs       ari       jac        f1  obj_num_diff  feat  \n",
       "0   297.097485  0.255544  0.214910  0.942924  0.077861             4  1912  \n",
       "1   122.116747  0.884860  0.287844  0.955206  0.064814             0   122  \n",
       "2    49.732244  0.754302  0.555769  0.981243  0.138509             0    68  \n",
       "3    53.954943  0.943713  0.597793  0.958339  0.233405             0   173  \n",
       "4   255.285688  0.710239  0.375651  0.954737  0.086244             1   651  "
      ]
     },
     "execution_count": 19,
     "metadata": {},
     "output_type": "execute_result"
    }
   ],
   "source": [
    "data = pd.read_parquet('dataset_parquet.parquet')\n",
    "data = shuffle_dataset(data)\n",
    "data['obj_num_diff'] = data['obj_num_diff'].abs()\n",
    "data.rename(columns={'Sample': 'target'}, inplace=True)\n",
    "data.head()"
   ]
  },
  {
   "cell_type": "code",
   "execution_count": 20,
   "metadata": {},
   "outputs": [
    {
     "name": "stdout",
     "output_type": "stream",
     "text": [
      "<class 'pandas.core.frame.DataFrame'>\n",
      "RangeIndex: 180 entries, 0 to 179\n",
      "Data columns (total 13 columns):\n",
      "mi              180 non-null float64\n",
      "tp              180 non-null float64\n",
      "hd              180 non-null float64\n",
      "name            180 non-null object\n",
      "target          180 non-null int64\n",
      "type            180 non-null int64\n",
      "center_dist     156 non-null float64\n",
      "vs              180 non-null float64\n",
      "ari             180 non-null float64\n",
      "jac             180 non-null float64\n",
      "f1              180 non-null float64\n",
      "obj_num_diff    180 non-null int64\n",
      "feat            180 non-null int64\n",
      "dtypes: float64(8), int64(4), object(1)\n",
      "memory usage: 18.4+ KB\n"
     ]
    }
   ],
   "source": [
    "data.info()"
   ]
  },
  {
   "cell_type": "code",
   "execution_count": 21,
   "metadata": {},
   "outputs": [],
   "source": [
    "data.fillna(0, inplace=True)"
   ]
  },
  {
   "cell_type": "code",
   "execution_count": 22,
   "metadata": {},
   "outputs": [],
   "source": [
    "ex_cols =  ['name', 'target', 'type']\n",
    "train = data.loc[:, [col for col in data.columns if col not in ex_cols]]\n",
    "target = data.loc[:, 'target']"
   ]
  },
  {
   "cell_type": "code",
   "execution_count": 23,
   "metadata": {},
   "outputs": [
    {
     "data": {
      "text/html": [
       "<div>\n",
       "<style scoped>\n",
       "    .dataframe tbody tr th:only-of-type {\n",
       "        vertical-align: middle;\n",
       "    }\n",
       "\n",
       "    .dataframe tbody tr th {\n",
       "        vertical-align: top;\n",
       "    }\n",
       "\n",
       "    .dataframe thead th {\n",
       "        text-align: right;\n",
       "    }\n",
       "</style>\n",
       "<table border=\"1\" class=\"dataframe\">\n",
       "  <thead>\n",
       "    <tr style=\"text-align: right;\">\n",
       "      <th></th>\n",
       "      <th>mi</th>\n",
       "      <th>tp</th>\n",
       "      <th>hd</th>\n",
       "      <th>center_dist</th>\n",
       "      <th>vs</th>\n",
       "      <th>ari</th>\n",
       "      <th>jac</th>\n",
       "      <th>f1</th>\n",
       "      <th>obj_num_diff</th>\n",
       "      <th>feat</th>\n",
       "    </tr>\n",
       "  </thead>\n",
       "  <tbody>\n",
       "    <tr>\n",
       "      <th>count</th>\n",
       "      <td>180.000000</td>\n",
       "      <td>180.000000</td>\n",
       "      <td>180.000000</td>\n",
       "      <td>180.000000</td>\n",
       "      <td>180.000000</td>\n",
       "      <td>180.000000</td>\n",
       "      <td>180.000000</td>\n",
       "      <td>180.000000</td>\n",
       "      <td>180.000000</td>\n",
       "      <td>1.800000e+02</td>\n",
       "    </tr>\n",
       "    <tr>\n",
       "      <th>mean</th>\n",
       "      <td>0.056072</td>\n",
       "      <td>0.070472</td>\n",
       "      <td>2876.883405</td>\n",
       "      <td>126.446802</td>\n",
       "      <td>0.592043</td>\n",
       "      <td>0.383093</td>\n",
       "      <td>0.929528</td>\n",
       "      <td>0.125444</td>\n",
       "      <td>1.083333</td>\n",
       "      <td>2.055597e+07</td>\n",
       "    </tr>\n",
       "    <tr>\n",
       "      <th>std</th>\n",
       "      <td>0.060017</td>\n",
       "      <td>0.066833</td>\n",
       "      <td>1294.704864</td>\n",
       "      <td>124.988974</td>\n",
       "      <td>0.328459</td>\n",
       "      <td>0.286621</td>\n",
       "      <td>0.066833</td>\n",
       "      <td>0.103694</td>\n",
       "      <td>1.162135</td>\n",
       "      <td>5.461605e+07</td>\n",
       "    </tr>\n",
       "    <tr>\n",
       "      <th>min</th>\n",
       "      <td>0.000000</td>\n",
       "      <td>0.000000</td>\n",
       "      <td>0.000000</td>\n",
       "      <td>0.000000</td>\n",
       "      <td>0.000000</td>\n",
       "      <td>-0.093847</td>\n",
       "      <td>0.613308</td>\n",
       "      <td>0.000000</td>\n",
       "      <td>0.000000</td>\n",
       "      <td>4.000000e+00</td>\n",
       "    </tr>\n",
       "    <tr>\n",
       "      <th>25%</th>\n",
       "      <td>0.010378</td>\n",
       "      <td>0.021897</td>\n",
       "      <td>2208.364780</td>\n",
       "      <td>28.212265</td>\n",
       "      <td>0.346510</td>\n",
       "      <td>0.142300</td>\n",
       "      <td>0.892119</td>\n",
       "      <td>0.044353</td>\n",
       "      <td>0.000000</td>\n",
       "      <td>1.310000e+02</td>\n",
       "    </tr>\n",
       "    <tr>\n",
       "      <th>50%</th>\n",
       "      <td>0.034528</td>\n",
       "      <td>0.049914</td>\n",
       "      <td>2901.845295</td>\n",
       "      <td>97.000646</td>\n",
       "      <td>0.690379</td>\n",
       "      <td>0.378446</td>\n",
       "      <td>0.950086</td>\n",
       "      <td>0.111841</td>\n",
       "      <td>1.000000</td>\n",
       "      <td>4.480000e+02</td>\n",
       "    </tr>\n",
       "    <tr>\n",
       "      <th>75%</th>\n",
       "      <td>0.085037</td>\n",
       "      <td>0.107881</td>\n",
       "      <td>3695.301070</td>\n",
       "      <td>183.722305</td>\n",
       "      <td>0.886066</td>\n",
       "      <td>0.598554</td>\n",
       "      <td>0.978103</td>\n",
       "      <td>0.186550</td>\n",
       "      <td>1.000000</td>\n",
       "      <td>9.537500e+02</td>\n",
       "    </tr>\n",
       "    <tr>\n",
       "      <th>max</th>\n",
       "      <td>0.243432</td>\n",
       "      <td>0.386692</td>\n",
       "      <td>5758.710793</td>\n",
       "      <td>591.597067</td>\n",
       "      <td>1.000000</td>\n",
       "      <td>1.000000</td>\n",
       "      <td>1.000000</td>\n",
       "      <td>0.435205</td>\n",
       "      <td>7.000000</td>\n",
       "      <td>3.000000e+08</td>\n",
       "    </tr>\n",
       "  </tbody>\n",
       "</table>\n",
       "</div>"
      ],
      "text/plain": [
       "               mi          tp           hd  center_dist          vs  \\\n",
       "count  180.000000  180.000000   180.000000   180.000000  180.000000   \n",
       "mean     0.056072    0.070472  2876.883405   126.446802    0.592043   \n",
       "std      0.060017    0.066833  1294.704864   124.988974    0.328459   \n",
       "min      0.000000    0.000000     0.000000     0.000000    0.000000   \n",
       "25%      0.010378    0.021897  2208.364780    28.212265    0.346510   \n",
       "50%      0.034528    0.049914  2901.845295    97.000646    0.690379   \n",
       "75%      0.085037    0.107881  3695.301070   183.722305    0.886066   \n",
       "max      0.243432    0.386692  5758.710793   591.597067    1.000000   \n",
       "\n",
       "              ari         jac          f1  obj_num_diff          feat  \n",
       "count  180.000000  180.000000  180.000000    180.000000  1.800000e+02  \n",
       "mean     0.383093    0.929528    0.125444      1.083333  2.055597e+07  \n",
       "std      0.286621    0.066833    0.103694      1.162135  5.461605e+07  \n",
       "min     -0.093847    0.613308    0.000000      0.000000  4.000000e+00  \n",
       "25%      0.142300    0.892119    0.044353      0.000000  1.310000e+02  \n",
       "50%      0.378446    0.950086    0.111841      1.000000  4.480000e+02  \n",
       "75%      0.598554    0.978103    0.186550      1.000000  9.537500e+02  \n",
       "max      1.000000    1.000000    0.435205      7.000000  3.000000e+08  "
      ]
     },
     "execution_count": 23,
     "metadata": {},
     "output_type": "execute_result"
    }
   ],
   "source": [
    "train.describe()"
   ]
  },
  {
   "cell_type": "code",
   "execution_count": 24,
   "metadata": {},
   "outputs": [],
   "source": [
    "def normalize(df):\n",
    "    mean_ = df.mean()\n",
    "    std_ = df.std()\n",
    "    return (df - mean_) / std_, mean_, std_\n",
    "\n",
    "train_norm, mu, sd = normalize(train)"
   ]
  },
  {
   "cell_type": "code",
   "execution_count": 25,
   "metadata": {},
   "outputs": [
    {
     "data": {
      "image/png": "[encoded data removed]",
      "text/plain": [
       "<Figure size 1080x720 with 2 Axes>"
      ]
     },
     "metadata": {
      "needs_background": "light"
     },
     "output_type": "display_data"
    }
   ],
   "source": [
    "corr = train_norm.corr().abs()\n",
    "plt.figure(figsize=(15, 10))\n",
    "p = sns.heatmap(corr, \n",
    "            xticklabels=corr.columns.values,\n",
    "            yticklabels=corr.columns.values,\n",
    "            square=True, annot=True)\n",
    "p.set_xticklabels(corr.columns.values,\n",
    "                  rotation=0)\n",
    "p.set_yticklabels(corr.columns.values,\n",
    "                  rotation=0)\n",
    "plt.show()"
   ]
  },
  {
   "cell_type": "code",
   "execution_count": 26,
   "metadata": {},
   "outputs": [],
   "source": [
    "train_norm.drop('tp', axis=1, inplace=True)"
   ]
  },
  {
   "cell_type": "markdown",
   "metadata": {},
   "source": [
    "# Baseline"
   ]
  },
  {
   "cell_type": "code",
   "execution_count": 27,
   "metadata": {},
   "outputs": [
    {
     "name": "stdout",
     "output_type": "stream",
     "text": [
      "Абсолютная ошибка константного предсказания: 1.178\n"
     ]
    }
   ],
   "source": [
    "const_pred = np.ones(len(train_norm)) * 3\n",
    "const_mae = mean_absolute_error(const_pred, target)\n",
    "print('Абсолютная ошибка константного предсказания:', np.round(const_mae, 3))"
   ]
  },
  {
   "cell_type": "markdown",
   "metadata": {},
   "source": [
    "# Простая линейная регрессия"
   ]
  },
  {
   "cell_type": "code",
   "execution_count": 29,
   "metadata": {},
   "outputs": [],
   "source": [
    "train_simple = train_norm.copy()\n",
    "train_simple = sm.add_constant(train_simple)\n",
    "model_simple = sm.OLS(target, train_simple, missing='drop')\n",
    "model_simple = model_simple.fit()"
   ]
  },
  {
   "cell_type": "code",
   "execution_count": 30,
   "metadata": {},
   "outputs": [
    {
     "data": {
      "text/html": [
       "<table class=\"simpletable\">\n",
       "<caption>OLS Regression Results</caption>\n",
       "<tr>\n",
       "  <th>Dep. Variable:</th>         <td>target</td>      <th>  R-squared:         </th> <td>   0.640</td>\n",
       "</tr>\n",
       "<tr>\n",
       "  <th>Model:</th>                   <td>OLS</td>       <th>  Adj. R-squared:    </th> <td>   0.621</td>\n",
       "</tr>\n",
       "<tr>\n",
       "  <th>Method:</th>             <td>Least Squares</td>  <th>  F-statistic:       </th> <td>   33.59</td>\n",
       "</tr>\n",
       "<tr>\n",
       "  <th>Date:</th>             <td>Sun, 01 Nov 2020</td> <th>  Prob (F-statistic):</th> <td>2.17e-33</td>\n",
       "</tr>\n",
       "<tr>\n",
       "  <th>Time:</th>                 <td>01:15:02</td>     <th>  Log-Likelihood:    </th> <td> -224.56</td>\n",
       "</tr>\n",
       "<tr>\n",
       "  <th>No. Observations:</th>      <td>   180</td>      <th>  AIC:               </th> <td>   469.1</td>\n",
       "</tr>\n",
       "<tr>\n",
       "  <th>Df Residuals:</th>          <td>   170</td>      <th>  BIC:               </th> <td>   501.1</td>\n",
       "</tr>\n",
       "<tr>\n",
       "  <th>Df Model:</th>              <td>     9</td>      <th>                     </th>     <td> </td>   \n",
       "</tr>\n",
       "<tr>\n",
       "  <th>Covariance Type:</th>      <td>nonrobust</td>    <th>                     </th>     <td> </td>   \n",
       "</tr>\n",
       "</table>\n",
       "<table class=\"simpletable\">\n",
       "<tr>\n",
       "        <td></td>          <th>coef</th>     <th>std err</th>      <th>t</th>      <th>P>|t|</th>  <th>[0.025</th>    <th>0.975]</th>  \n",
       "</tr>\n",
       "<tr>\n",
       "  <th>const</th>        <td>    3.1667</td> <td>    0.065</td> <td>   49.006</td> <td> 0.000</td> <td>    3.039</td> <td>    3.294</td>\n",
       "</tr>\n",
       "<tr>\n",
       "  <th>mi</th>           <td>   -0.0469</td> <td>    0.136</td> <td>   -0.345</td> <td> 0.731</td> <td>   -0.315</td> <td>    0.222</td>\n",
       "</tr>\n",
       "<tr>\n",
       "  <th>hd</th>           <td>    0.0507</td> <td>    0.084</td> <td>    0.603</td> <td> 0.547</td> <td>   -0.115</td> <td>    0.217</td>\n",
       "</tr>\n",
       "<tr>\n",
       "  <th>center_dist</th>  <td>   -0.3444</td> <td>    0.088</td> <td>   -3.905</td> <td> 0.000</td> <td>   -0.518</td> <td>   -0.170</td>\n",
       "</tr>\n",
       "<tr>\n",
       "  <th>vs</th>           <td>   -0.0066</td> <td>    0.115</td> <td>   -0.057</td> <td> 0.954</td> <td>   -0.233</td> <td>    0.219</td>\n",
       "</tr>\n",
       "<tr>\n",
       "  <th>ari</th>          <td>    1.0346</td> <td>    0.147</td> <td>    7.035</td> <td> 0.000</td> <td>    0.744</td> <td>    1.325</td>\n",
       "</tr>\n",
       "<tr>\n",
       "  <th>jac</th>          <td>   -0.3613</td> <td>    0.089</td> <td>   -4.039</td> <td> 0.000</td> <td>   -0.538</td> <td>   -0.185</td>\n",
       "</tr>\n",
       "<tr>\n",
       "  <th>f1</th>           <td>   -0.1231</td> <td>    0.149</td> <td>   -0.826</td> <td> 0.410</td> <td>   -0.418</td> <td>    0.171</td>\n",
       "</tr>\n",
       "<tr>\n",
       "  <th>obj_num_diff</th> <td>   -0.1452</td> <td>    0.071</td> <td>   -2.036</td> <td> 0.043</td> <td>   -0.286</td> <td>   -0.004</td>\n",
       "</tr>\n",
       "<tr>\n",
       "  <th>feat</th>         <td>   -0.2840</td> <td>    0.085</td> <td>   -3.339</td> <td> 0.001</td> <td>   -0.452</td> <td>   -0.116</td>\n",
       "</tr>\n",
       "</table>\n",
       "<table class=\"simpletable\">\n",
       "<tr>\n",
       "  <th>Omnibus:</th>       <td> 4.020</td> <th>  Durbin-Watson:     </th> <td>   2.005</td>\n",
       "</tr>\n",
       "<tr>\n",
       "  <th>Prob(Omnibus):</th> <td> 0.134</td> <th>  Jarque-Bera (JB):  </th> <td>   4.440</td>\n",
       "</tr>\n",
       "<tr>\n",
       "  <th>Skew:</th>          <td> 0.150</td> <th>  Prob(JB):          </th> <td>   0.109</td>\n",
       "</tr>\n",
       "<tr>\n",
       "  <th>Kurtosis:</th>      <td> 3.708</td> <th>  Cond. No.          </th> <td>    5.36</td>\n",
       "</tr>\n",
       "</table><br/><br/>Warnings:<br/>[1] Standard Errors assume that the covariance matrix of the errors is correctly specified."
      ],
      "text/plain": [
       "<class 'statsmodels.iolib.summary.Summary'>\n",
       "\"\"\"\n",
       "                            OLS Regression Results                            \n",
       "==============================================================================\n",
       "Dep. Variable:                 target   R-squared:                       0.640\n",
       "Model:                            OLS   Adj. R-squared:                  0.621\n",
       "Method:                 Least Squares   F-statistic:                     33.59\n",
       "Date:                Sun, 01 Nov 2020   Prob (F-statistic):           2.17e-33\n",
       "Time:                        01:15:02   Log-Likelihood:                -224.56\n",
       "No. Observations:                 180   AIC:                             469.1\n",
       "Df Residuals:                     170   BIC:                             501.1\n",
       "Df Model:                           9                                         \n",
       "Covariance Type:            nonrobust                                         \n",
       "================================================================================\n",
       "                   coef    std err          t      P>|t|      [0.025      0.975]\n",
       "--------------------------------------------------------------------------------\n",
       "const            3.1667      0.065     49.006      0.000       3.039       3.294\n",
       "mi              -0.0469      0.136     -0.345      0.731      -0.315       0.222\n",
       "hd               0.0507      0.084      0.603      0.547      -0.115       0.217\n",
       "center_dist     -0.3444      0.088     -3.905      0.000      -0.518      -0.170\n",
       "vs              -0.0066      0.115     -0.057      0.954      -0.233       0.219\n",
       "ari              1.0346      0.147      7.035      0.000       0.744       1.325\n",
       "jac             -0.3613      0.089     -4.039      0.000      -0.538      -0.185\n",
       "f1              -0.1231      0.149     -0.826      0.410      -0.418       0.171\n",
       "obj_num_diff    -0.1452      0.071     -2.036      0.043      -0.286      -0.004\n",
       "feat            -0.2840      0.085     -3.339      0.001      -0.452      -0.116\n",
       "==============================================================================\n",
       "Omnibus:                        4.020   Durbin-Watson:                   2.005\n",
       "Prob(Omnibus):                  0.134   Jarque-Bera (JB):                4.440\n",
       "Skew:                           0.150   Prob(JB):                        0.109\n",
       "Kurtosis:                       3.708   Cond. No.                         5.36\n",
       "==============================================================================\n",
       "\n",
       "Warnings:\n",
       "[1] Standard Errors assume that the covariance matrix of the errors is correctly specified.\n",
       "\"\"\""
      ]
     },
     "execution_count": 30,
     "metadata": {},
     "output_type": "execute_result"
    }
   ],
   "source": [
    "model_simple.summary()"
   ]
  },
  {
   "cell_type": "code",
   "execution_count": 16,
   "metadata": {},
   "outputs": [
    {
     "name": "stdout",
     "output_type": "stream",
     "text": [
      "Результат на трейне: 0.599 +/- 0.019\n",
      "Результат на валидации: 0.678 +/- 0.048\n"
     ]
    }
   ],
   "source": [
    "# датасет в сыром виде, все фичи сохранены, есть разница между кол-вом объектов эксерта и алгоритма\n",
    "train_scores, val_scores = cross_val_score(train_simple, target, 5)\n",
    "print(f'Результат на трейне: {np.round(train_scores.mean(), 3)} +/- {np.round(train_scores.std(), 3)}')\n",
    "print(f'Результат на валидации: {np.round(val_scores.mean(), 3)} +/- {np.round(val_scores.std(), 3)}')"
   ]
  },
  {
   "cell_type": "markdown",
   "metadata": {},
   "source": [
    "### Оставим только статистически значимые коэффициенты "
   ]
  },
  {
   "cell_type": "code",
   "execution_count": 31,
   "metadata": {},
   "outputs": [
    {
     "data": {
      "text/html": [
       "<table class=\"simpletable\">\n",
       "<caption>OLS Regression Results</caption>\n",
       "<tr>\n",
       "  <th>Dep. Variable:</th>         <td>target</td>      <th>  R-squared:         </th> <td>   0.625</td>\n",
       "</tr>\n",
       "<tr>\n",
       "  <th>Model:</th>                   <td>OLS</td>       <th>  Adj. R-squared:    </th> <td>   0.615</td>\n",
       "</tr>\n",
       "<tr>\n",
       "  <th>Method:</th>             <td>Least Squares</td>  <th>  F-statistic:       </th> <td>   58.12</td>\n",
       "</tr>\n",
       "<tr>\n",
       "  <th>Date:</th>             <td>Sun, 01 Nov 2020</td> <th>  Prob (F-statistic):</th> <td>2.43e-35</td>\n",
       "</tr>\n",
       "<tr>\n",
       "  <th>Time:</th>                 <td>01:16:29</td>     <th>  Log-Likelihood:    </th> <td> -228.14</td>\n",
       "</tr>\n",
       "<tr>\n",
       "  <th>No. Observations:</th>      <td>   180</td>      <th>  AIC:               </th> <td>   468.3</td>\n",
       "</tr>\n",
       "<tr>\n",
       "  <th>Df Residuals:</th>          <td>   174</td>      <th>  BIC:               </th> <td>   487.4</td>\n",
       "</tr>\n",
       "<tr>\n",
       "  <th>Df Model:</th>              <td>     5</td>      <th>                     </th>     <td> </td>   \n",
       "</tr>\n",
       "<tr>\n",
       "  <th>Covariance Type:</th>      <td>nonrobust</td>    <th>                     </th>     <td> </td>   \n",
       "</tr>\n",
       "</table>\n",
       "<table class=\"simpletable\">\n",
       "<tr>\n",
       "        <td></td>          <th>coef</th>     <th>std err</th>      <th>t</th>      <th>P>|t|</th>  <th>[0.025</th>    <th>0.975]</th>  \n",
       "</tr>\n",
       "<tr>\n",
       "  <th>const</th>        <td>    3.1352</td> <td>    0.087</td> <td>   35.951</td> <td> 0.000</td> <td>    2.963</td> <td>    3.307</td>\n",
       "</tr>\n",
       "<tr>\n",
       "  <th>ari</th>          <td>    0.9554</td> <td>    0.091</td> <td>   10.446</td> <td> 0.000</td> <td>    0.775</td> <td>    1.136</td>\n",
       "</tr>\n",
       "<tr>\n",
       "  <th>jac</th>          <td>   -0.2967</td> <td>    0.076</td> <td>   -3.888</td> <td> 0.000</td> <td>   -0.447</td> <td>   -0.146</td>\n",
       "</tr>\n",
       "<tr>\n",
       "  <th>obj_num_diff</th> <td>    0.0480</td> <td>    0.088</td> <td>    0.543</td> <td> 0.588</td> <td>   -0.126</td> <td>    0.222</td>\n",
       "</tr>\n",
       "<tr>\n",
       "  <th>center_dist</th>  <td>   -0.3497</td> <td>    0.083</td> <td>   -4.195</td> <td> 0.000</td> <td>   -0.514</td> <td>   -0.185</td>\n",
       "</tr>\n",
       "<tr>\n",
       "  <th>feat</th>         <td>   -0.2551</td> <td>    0.079</td> <td>   -3.245</td> <td> 0.001</td> <td>   -0.410</td> <td>   -0.100</td>\n",
       "</tr>\n",
       "</table>\n",
       "<table class=\"simpletable\">\n",
       "<tr>\n",
       "  <th>Omnibus:</th>       <td> 5.076</td> <th>  Durbin-Watson:     </th> <td>   2.024</td>\n",
       "</tr>\n",
       "<tr>\n",
       "  <th>Prob(Omnibus):</th> <td> 0.079</td> <th>  Jarque-Bera (JB):  </th> <td>   5.675</td>\n",
       "</tr>\n",
       "<tr>\n",
       "  <th>Skew:</th>          <td> 0.217</td> <th>  Prob(JB):          </th> <td>  0.0586</td>\n",
       "</tr>\n",
       "<tr>\n",
       "  <th>Kurtosis:</th>      <td> 3.754</td> <th>  Cond. No.          </th> <td>    2.57</td>\n",
       "</tr>\n",
       "</table><br/><br/>Warnings:<br/>[1] Standard Errors assume that the covariance matrix of the errors is correctly specified."
      ],
      "text/plain": [
       "<class 'statsmodels.iolib.summary.Summary'>\n",
       "\"\"\"\n",
       "                            OLS Regression Results                            \n",
       "==============================================================================\n",
       "Dep. Variable:                 target   R-squared:                       0.625\n",
       "Model:                            OLS   Adj. R-squared:                  0.615\n",
       "Method:                 Least Squares   F-statistic:                     58.12\n",
       "Date:                Sun, 01 Nov 2020   Prob (F-statistic):           2.43e-35\n",
       "Time:                        01:16:29   Log-Likelihood:                -228.14\n",
       "No. Observations:                 180   AIC:                             468.3\n",
       "Df Residuals:                     174   BIC:                             487.4\n",
       "Df Model:                           5                                         \n",
       "Covariance Type:            nonrobust                                         \n",
       "================================================================================\n",
       "                   coef    std err          t      P>|t|      [0.025      0.975]\n",
       "--------------------------------------------------------------------------------\n",
       "const            3.1352      0.087     35.951      0.000       2.963       3.307\n",
       "ari              0.9554      0.091     10.446      0.000       0.775       1.136\n",
       "jac             -0.2967      0.076     -3.888      0.000      -0.447      -0.146\n",
       "obj_num_diff     0.0480      0.088      0.543      0.588      -0.126       0.222\n",
       "center_dist     -0.3497      0.083     -4.195      0.000      -0.514      -0.185\n",
       "feat            -0.2551      0.079     -3.245      0.001      -0.410      -0.100\n",
       "==============================================================================\n",
       "Omnibus:                        5.076   Durbin-Watson:                   2.024\n",
       "Prob(Omnibus):                  0.079   Jarque-Bera (JB):                5.675\n",
       "Skew:                           0.217   Prob(JB):                       0.0586\n",
       "Kurtosis:                       3.754   Cond. No.                         2.57\n",
       "==============================================================================\n",
       "\n",
       "Warnings:\n",
       "[1] Standard Errors assume that the covariance matrix of the errors is correctly specified.\n",
       "\"\"\""
      ]
     },
     "execution_count": 31,
     "metadata": {},
     "output_type": "execute_result"
    }
   ],
   "source": [
    "significant_cols = ['const', 'ari', 'jac', 'obj_num_diff', 'center_dist', 'feat']\n",
    "train_truncated = train_norm.copy()\n",
    "train_truncated = sm.add_constant(train_truncated)\n",
    "train_truncated = train_truncated.loc[:, significant_cols]\n",
    "train_truncated['obj_num_diff'] = train_truncated['obj_num_diff'].abs()\n",
    "\n",
    "model_truncated = sm.OLS(target, train_truncated, missing='drop')\n",
    "model_truncated = model_truncated.fit()\n",
    "model_truncated.summary()"
   ]
  },
  {
   "cell_type": "code",
   "execution_count": 33,
   "metadata": {},
   "outputs": [
    {
     "name": "stdout",
     "output_type": "stream",
     "text": [
      "Результат на трейне: 0.622 +/- 0.021\n",
      "Результат на валидации: 0.65 +/- 0.067\n"
     ]
    }
   ],
   "source": [
    "train_scores, val_scores = cross_val_score(train_truncated, target, 5)\n",
    "print(f'Результат на трейне: {np.round(train_scores.mean(), 3)} +/- {np.round(train_scores.std(), 3)}')\n",
    "print(f'Результат на валидации: {np.round(val_scores.mean(), 3)} +/- {np.round(val_scores.std(), 3)}')"
   ]
  },
  {
   "cell_type": "markdown",
   "metadata": {},
   "source": [
    "# Линейная регрессия с регуляризацией"
   ]
  },
  {
   "cell_type": "markdown",
   "metadata": {},
   "source": [
    "### LASSO"
   ]
  },
  {
   "cell_type": "code",
   "execution_count": 34,
   "metadata": {},
   "outputs": [
    {
     "name": "stdout",
     "output_type": "stream",
     "text": [
      "Результат на трейне: 0.592 +/- 0.015\n",
      "Результат на валидации: 0.639 +/- 0.108\n"
     ]
    }
   ],
   "source": [
    "# на изначальном датасете\n",
    "reg_params = {\n",
    "    'alpha':0,\n",
    "    'L1_wt':1\n",
    "}\n",
    "train_scores, val_scores = cross_val_score(train_simple, target, 5, True, reg_params)\n",
    "print(f'Результат на трейне: {np.round(train_scores.mean(), 3)} +/- {np.round(train_scores.std(), 3)}')\n",
    "print(f'Результат на валидации: {np.round(val_scores.mean(), 3)} +/- {np.round(val_scores.std(), 3)}')"
   ]
  },
  {
   "cell_type": "code",
   "execution_count": 44,
   "metadata": {},
   "outputs": [
    {
     "name": "stdout",
     "output_type": "stream",
     "text": [
      "Лучший результат: 0.639\n"
     ]
    }
   ],
   "source": [
    "alpha_list = [0, 0.1, 0.2, 0.3, 0.4, 0.5, 0.6, 0.7, 0.8, 0.9, 1]\n",
    "l1_list = [0, 0.1, 0.2, 0.3, 0.4, 0.5, 0.6, 0.7, 0.8, 0.9, 1]\n",
    "\n",
    "best_score = 5\n",
    "best_alpha = alpha_list[0]\n",
    "best_l1 = l1_list[0]\n",
    "\n",
    "for alpha in alpha_list:\n",
    "    for l1 in l1_list:\n",
    "        reg_params = {\n",
    "            'alpha': alpha,\n",
    "            'L1_wt': l1\n",
    "        }\n",
    "        _, val_scores = cross_val_score(train_simple, target, 5, True, reg_params)\n",
    "        if val_scores.mean() < best_score:\n",
    "            best_score = val_scores.mean()\n",
    "            best_alpha = alpha\n",
    "            best_l1 = l1\n",
    "            \n",
    "print('Лучший результат:', np.round(best_score, 3))"
   ]
  },
  {
   "cell_type": "code",
   "execution_count": 43,
   "metadata": {},
   "outputs": [
    {
     "name": "stdout",
     "output_type": "stream",
     "text": [
      "Лучший результат: 0.65\n"
     ]
    }
   ],
   "source": [
    "# на датасете с значимыми признаками\n",
    "alpha_list = [0, 0.1, 0.2, 0.3, 0.4, 0.5, 0.6, 0.7, 0.8, 0.9, 1]\n",
    "l1_list = [0, 0.1, 0.2, 0.3, 0.4, 0.5, 0.6, 0.7, 0.8, 0.9, 1]\n",
    "\n",
    "best_score = 5\n",
    "best_alpha = alpha_list[0]\n",
    "best_l1 = l1_list[0]\n",
    "\n",
    "for alpha in alpha_list:\n",
    "    for l1 in l1_list:\n",
    "        reg_params = {\n",
    "            'alpha': alpha,\n",
    "            'L1_wt': l1\n",
    "        }\n",
    "        _, val_scores = cross_val_score(train_truncated, target, 5, True, reg_params)\n",
    "        if val_scores.mean() < best_score:\n",
    "            best_score = val_scores.mean()\n",
    "            best_alpha = alpha\n",
    "            best_l1 = l1\n",
    "            \n",
    "print('Лучший результат:', np.round(best_score, 3))"
   ]
  }
 ],
 "metadata": {
  "kernelspec": {
   "display_name": "Python 3",
   "language": "python",
   "name": "python3"
  },
  "language_info": {
   "codemirror_mode": {
    "name": "ipython",
    "version": 3
   },
   "file_extension": ".py",
   "mimetype": "text/x-python",
   "name": "python",
   "nbconvert_exporter": "python",
   "pygments_lexer": "ipython3",
   "version": "3.7.1"
  }
 },
 "nbformat": 4,
 "nbformat_minor": 2
}
