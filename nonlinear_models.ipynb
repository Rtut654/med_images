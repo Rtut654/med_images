{
 "cells": [
  {
   "cell_type": "code",
   "execution_count": 1,
   "metadata": {},
   "outputs": [],
   "source": [
    "import pandas as pd\n",
    "import numpy as np\n",
    "\n",
    "from sklearn.ensemble import RandomForestClassifier\n",
    "from sklearn.model_selection import RandomizedSearchCV\n",
    "from sklearn.utils import shuffle\n",
    "from sklearn.metrics import mean_absolute_error, make_scorer\n",
    "from sklearn.model_selection import train_test_split, cross_val_score, KFold\n",
    "\n",
    "import matplotlib.pyplot as plt\n",
    "\n",
    "import warnings\n",
    "warnings.filterwarnings('ignore')"
   ]
  },
  {
   "cell_type": "code",
   "execution_count": 2,
   "metadata": {},
   "outputs": [],
   "source": [
    "def shuffle_dataset(df):\n",
    "    df = shuffle(df)\n",
    "    df.reset_index(inplace=True, drop=True)\n",
    "    return df"
   ]
  },
  {
   "cell_type": "code",
   "execution_count": 3,
   "metadata": {},
   "outputs": [
    {
     "data": {
      "text/html": [
       "<div>\n",
       "<style scoped>\n",
       "    .dataframe tbody tr th:only-of-type {\n",
       "        vertical-align: middle;\n",
       "    }\n",
       "\n",
       "    .dataframe tbody tr th {\n",
       "        vertical-align: top;\n",
       "    }\n",
       "\n",
       "    .dataframe thead th {\n",
       "        text-align: right;\n",
       "    }\n",
       "</style>\n",
       "<table border=\"1\" class=\"dataframe\">\n",
       "  <thead>\n",
       "    <tr style=\"text-align: right;\">\n",
       "      <th></th>\n",
       "      <th>mi</th>\n",
       "      <th>tp</th>\n",
       "      <th>hd</th>\n",
       "      <th>name</th>\n",
       "      <th>target</th>\n",
       "      <th>type</th>\n",
       "      <th>center_dist</th>\n",
       "      <th>vs</th>\n",
       "      <th>ari</th>\n",
       "      <th>jac</th>\n",
       "      <th>f1</th>\n",
       "      <th>obj_num_diff</th>\n",
       "      <th>feat</th>\n",
       "    </tr>\n",
       "  </thead>\n",
       "  <tbody>\n",
       "    <tr>\n",
       "      <th>0</th>\n",
       "      <td>0.057280</td>\n",
       "      <td>0.036245</td>\n",
       "      <td>3164.466780</td>\n",
       "      <td>00001075_024.png</td>\n",
       "      <td>3</td>\n",
       "      <td>3</td>\n",
       "      <td>195.693216</td>\n",
       "      <td>0.719283</td>\n",
       "      <td>0.518290</td>\n",
       "      <td>0.963755</td>\n",
       "      <td>0.112117</td>\n",
       "      <td>2</td>\n",
       "      <td>816</td>\n",
       "    </tr>\n",
       "    <tr>\n",
       "      <th>1</th>\n",
       "      <td>0.000000</td>\n",
       "      <td>0.000000</td>\n",
       "      <td>0.000000</td>\n",
       "      <td>00005215_000.png</td>\n",
       "      <td>5</td>\n",
       "      <td>1</td>\n",
       "      <td>0.000000</td>\n",
       "      <td>1.000000</td>\n",
       "      <td>1.000000</td>\n",
       "      <td>1.000000</td>\n",
       "      <td>0.000000</td>\n",
       "      <td>0</td>\n",
       "      <td>100000000</td>\n",
       "    </tr>\n",
       "    <tr>\n",
       "      <th>2</th>\n",
       "      <td>0.207215</td>\n",
       "      <td>0.050599</td>\n",
       "      <td>987.610753</td>\n",
       "      <td>00003894_005.png</td>\n",
       "      <td>5</td>\n",
       "      <td>1</td>\n",
       "      <td>56.021792</td>\n",
       "      <td>0.843556</td>\n",
       "      <td>0.715652</td>\n",
       "      <td>0.949401</td>\n",
       "      <td>0.202547</td>\n",
       "      <td>0</td>\n",
       "      <td>55</td>\n",
       "    </tr>\n",
       "    <tr>\n",
       "      <th>3</th>\n",
       "      <td>0.168640</td>\n",
       "      <td>0.011190</td>\n",
       "      <td>987.610753</td>\n",
       "      <td>00010815_006.png</td>\n",
       "      <td>4</td>\n",
       "      <td>2</td>\n",
       "      <td>17.154956</td>\n",
       "      <td>0.908021</td>\n",
       "      <td>0.882966</td>\n",
       "      <td>0.988810</td>\n",
       "      <td>0.184882</td>\n",
       "      <td>1</td>\n",
       "      <td>7</td>\n",
       "    </tr>\n",
       "    <tr>\n",
       "      <th>4</th>\n",
       "      <td>0.185414</td>\n",
       "      <td>0.047125</td>\n",
       "      <td>3245.620126</td>\n",
       "      <td>00002578_000.png</td>\n",
       "      <td>4</td>\n",
       "      <td>1</td>\n",
       "      <td>38.852055</td>\n",
       "      <td>0.990326</td>\n",
       "      <td>0.719155</td>\n",
       "      <td>0.952875</td>\n",
       "      <td>0.435205</td>\n",
       "      <td>0</td>\n",
       "      <td>255</td>\n",
       "    </tr>\n",
       "  </tbody>\n",
       "</table>\n",
       "</div>"
      ],
      "text/plain": [
       "         mi        tp           hd              name  target  type  \\\n",
       "0  0.057280  0.036245  3164.466780  00001075_024.png       3     3   \n",
       "1  0.000000  0.000000     0.000000  00005215_000.png       5     1   \n",
       "2  0.207215  0.050599   987.610753  00003894_005.png       5     1   \n",
       "3  0.168640  0.011190   987.610753  00010815_006.png       4     2   \n",
       "4  0.185414  0.047125  3245.620126  00002578_000.png       4     1   \n",
       "\n",
       "   center_dist        vs       ari       jac        f1  obj_num_diff  \\\n",
       "0   195.693216  0.719283  0.518290  0.963755  0.112117             2   \n",
       "1     0.000000  1.000000  1.000000  1.000000  0.000000             0   \n",
       "2    56.021792  0.843556  0.715652  0.949401  0.202547             0   \n",
       "3    17.154956  0.908021  0.882966  0.988810  0.184882             1   \n",
       "4    38.852055  0.990326  0.719155  0.952875  0.435205             0   \n",
       "\n",
       "        feat  \n",
       "0        816  \n",
       "1  100000000  \n",
       "2         55  \n",
       "3          7  \n",
       "4        255  "
      ]
     },
     "execution_count": 3,
     "metadata": {},
     "output_type": "execute_result"
    }
   ],
   "source": [
    "metrics_data = pd.read_parquet('dataset_parquet.parquet')\n",
    "metrics_data = shuffle_dataset(metrics_data)\n",
    "metrics_data['obj_num_diff'] = metrics_data['obj_num_diff'].abs()\n",
    "metrics_data.rename(columns={'Sample': 'target'}, inplace=True)\n",
    "metrics_data.fillna(0, inplace=True)\n",
    "metrics_data.head()"
   ]
  },
  {
   "cell_type": "code",
   "execution_count": 4,
   "metadata": {},
   "outputs": [
    {
     "name": "stdout",
     "output_type": "stream",
     "text": [
      "(180, 10) (180,)\n"
     ]
    }
   ],
   "source": [
    "X = metrics_data.drop(['name', 'target', 'type'], axis=1)\n",
    "y = metrics_data['target']\n",
    "print(X.shape, y.shape)"
   ]
  },
  {
   "cell_type": "code",
   "execution_count": 5,
   "metadata": {},
   "outputs": [
    {
     "name": "stdout",
     "output_type": "stream",
     "text": [
      "Train size: 144\n",
      "Test_size: 36\n"
     ]
    }
   ],
   "source": [
    "X_train, X_test, y_train, y_test = train_test_split(X, y, test_size=0.2)\n",
    "print(f'Train size: {X_train.shape[0]}\\nTest_size: {X_test.shape[0]}')"
   ]
  },
  {
   "cell_type": "markdown",
   "metadata": {},
   "source": [
    "# Random Forest Classifier"
   ]
  },
  {
   "cell_type": "code",
   "execution_count": 6,
   "metadata": {},
   "outputs": [
    {
     "name": "stdout",
     "output_type": "stream",
     "text": [
      "Fitting 3 folds for each of 100 candidates, totalling 300 fits\n"
     ]
    },
    {
     "name": "stderr",
     "output_type": "stream",
     "text": [
      "[Parallel(n_jobs=-1)]: Using backend LokyBackend with 4 concurrent workers.\n",
      "[Parallel(n_jobs=-1)]: Done  33 tasks      | elapsed:   34.9s\n",
      "[Parallel(n_jobs=-1)]: Done 154 tasks      | elapsed:  2.1min\n",
      "[Parallel(n_jobs=-1)]: Done 300 out of 300 | elapsed:  3.7min finished\n"
     ]
    },
    {
     "name": "stdout",
     "output_type": "stream",
     "text": [
      "Wall time: 3min 46s\n"
     ]
    }
   ],
   "source": [
    "%%time\n",
    "# Number of trees in random forest\n",
    "n_estimators = [int(x) for x in np.linspace(start = 200, stop = 2000, num = 10)]\n",
    "# Number of features to consider at every split\n",
    "max_features = ['auto', 'sqrt']\n",
    "# Maximum number of levels in tree\n",
    "max_depth = [int(x) for x in np.linspace(10, 110, num = 11)]\n",
    "max_depth.append(None)\n",
    "# Minimum number of samples required to split a node\n",
    "min_samples_split = [2, 5, 10]\n",
    "# Minimum number of samples required at each leaf node\n",
    "min_samples_leaf = [1, 2, 4]\n",
    "# Method of selecting samples for training each tree\n",
    "bootstrap = [True, False]\n",
    "\n",
    "random_grid = {'n_estimators': n_estimators,\n",
    "               'max_features': max_features,\n",
    "               'max_depth': max_depth,\n",
    "               'min_samples_split': min_samples_split,\n",
    "               'min_samples_leaf': min_samples_leaf,\n",
    "               'bootstrap': bootstrap}\n",
    "\n",
    "mae_scorer = make_scorer(mean_absolute_error, greater_is_better=False)\n",
    "clf_rf = RandomForestClassifier()\n",
    "rf_random = RandomizedSearchCV(estimator=clf_rf, \n",
    "                               param_distributions=random_grid, \n",
    "                               n_iter=100, \n",
    "                               cv=3, \n",
    "                               verbose=2, \n",
    "                               n_jobs=-1,\n",
    "                               scoring=mae_scorer)\n",
    "rf_random.fit(X_train, y_train)"
   ]
  },
  {
   "cell_type": "code",
   "execution_count": 13,
   "metadata": {},
   "outputs": [
    {
     "name": "stdout",
     "output_type": "stream",
     "text": [
      "MAE на валидации: 0.5169506961810378\n"
     ]
    }
   ],
   "source": [
    "best_clf_rf = RandomForestClassifier(**rf_random.best_params_)\n",
    "\n",
    "scores = cross_val_score(best_clf_rf, X, y, scoring=mae_scorer)\n",
    "print('MAE на валидации:', -np.mean(scores))"
   ]
  },
  {
   "cell_type": "code",
   "execution_count": 14,
   "metadata": {},
   "outputs": [
    {
     "data": {
      "text/plain": [
       "{'n_estimators': 2000,\n",
       " 'min_samples_split': 2,\n",
       " 'min_samples_leaf': 4,\n",
       " 'max_features': 'auto',\n",
       " 'max_depth': 10,\n",
       " 'bootstrap': True}"
      ]
     },
     "execution_count": 14,
     "metadata": {},
     "output_type": "execute_result"
    }
   ],
   "source": [
    "rf_random.best_params_"
   ]
  },
  {
   "cell_type": "code",
   "execution_count": 16,
   "metadata": {},
   "outputs": [
    {
     "data": {
      "image/png": "[encoded data removed]",
      "text/plain": [
       "<Figure size 1440x720 with 1 Axes>"
      ]
     },
     "metadata": {
      "needs_background": "light"
     },
     "output_type": "display_data"
    }
   ],
   "source": [
    "best_clf_rf.fit(X, y)\n",
    "\n",
    "features = X.columns\n",
    "importances = best_clf_rf.feature_importances_\n",
    "indices = np.argsort(importances)\n",
    "\n",
    "plt.figure(figsize=(20,10))\n",
    "plt.title('Feature Importances')\n",
    "plt.barh(range(len(indices)), importances[indices], color='b', align='center')\n",
    "plt.yticks(range(len(indices)), [features[i] for i in indices])\n",
    "plt.xlabel('Relative Importance')\n",
    "plt.show()"
   ]
  }
 ],
 "metadata": {
  "kernelspec": {
   "display_name": "Python 3",
   "language": "python",
   "name": "python3"
  },
  "language_info": {
   "codemirror_mode": {
    "name": "ipython",
    "version": 3
   },
   "file_extension": ".py",
   "mimetype": "text/x-python",
   "name": "python",
   "nbconvert_exporter": "python",
   "pygments_lexer": "ipython3",
   "version": "3.7.1"
  }
 },
 "nbformat": 4,
 "nbformat_minor": 2
}
